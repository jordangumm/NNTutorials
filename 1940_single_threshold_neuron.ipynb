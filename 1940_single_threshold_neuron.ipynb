{
 "cells": [
  {
   "cell_type": "markdown",
   "metadata": {},
   "source": [
    "## Single-Threshold Neuron"
   ]
  },
  {
   "cell_type": "markdown",
   "metadata": {},
   "source": [
    "The single-threshold neuron was first developed by McCullock-Pitts in 1940.  It uses a threshold function to transfer information from itself onward.  Each function produces an output of either 0 or 1.\n",
    "\n",
    "The following example demonstrates the use of a single neuron to classify a series of inputs."
   ]
  },
  {
   "cell_type": "markdown",
   "metadata": {},
   "source": [
    "#### Setting the Input"
   ]
  },
  {
   "cell_type": "markdown",
   "metadata": {},
   "source": [
    "For this example we'll use two input parameters (x1 and x2) with four total observations.  In this example the elements of each parameter array represent one observation.  For example, { x1[0], x2[0] } is considered one observation.  This will become apparent in the steps to come."
   ]
  },
  {
   "cell_type": "code",
   "execution_count": 4,
   "metadata": {
    "collapsed": false
   },
   "outputs": [
    {
     "name": "stdout",
     "output_type": "stream",
     "text": [
      "inputs = [ 0.5  1.   1.   1.8]\n"
     ]
    }
   ],
   "source": [
    "import numpy as np\n",
    "\n",
    "x1 = np.array([0.2, 0.2, 0.8, 1.0])\n",
    "x2 = np.array([0.3, 0.8, 0.2, 0.8])\n",
    "\n",
    "inputs = np.add(x1,x2)\n",
    "print 'inputs = ' + str(inputs)"
   ]
  },
  {
   "cell_type": "markdown",
   "metadata": {},
   "source": [
    "#### Configuring Weights"
   ]
  },
  {
   "cell_type": "markdown",
   "metadata": {},
   "source": [
    "Normally, the net input 𝒖 to each neuron is the sum of the weighted inputs, calculated as:\n",
    "\n",
    "∑ = 𝒖 = w₁x₁ + w₂x₂\n",
    "\n",
    "Weights are used for learning purposes, but since the original neural networks didn't contain weights, our calculation of the net input is much simpler:\n",
    "\n",
    "∑ = 𝒖 = x₁ + x₂"
   ]
  },
  {
   "cell_type": "markdown",
   "metadata": {},
   "source": [
    "#### Activation Threshold"
   ]
  },
  {
   "cell_type": "markdown",
   "metadata": {},
   "source": [
    "The activation threshold represents a decision boundary where, in this case, an input is classified as a 1 when the input value exceeds or matches the threshold and 0 when the input value is less than the threshold.  For demonstration purposed we will arbitrarily choose the threshold to be the average of the inputs."
   ]
  },
  {
   "cell_type": "code",
   "execution_count": 5,
   "metadata": {
    "collapsed": false
   },
   "outputs": [
    {
     "name": "stdout",
     "output_type": "stream",
     "text": [
      "1.075\n"
     ]
    }
   ],
   "source": [
    "activation_threshold = np.average(np.add(x1,x2))\n",
    "print activation_threshold"
   ]
  },
  {
   "cell_type": "markdown",
   "metadata": {},
   "source": [
    "#### Calculating Output"
   ]
  },
  {
   "cell_type": "markdown",
   "metadata": {},
   "source": [
    "Now that we have all of our parameters configured we can get down to calculating the output vector, which is the set of predictions associated with each individual input vector.  In this example we iterate over each input and deduce, via the activation threshold, whether it should be classified as a 1 or a 0."
   ]
  },
  {
   "cell_type": "code",
   "execution_count": 6,
   "metadata": {
    "collapsed": false
   },
   "outputs": [
    {
     "name": "stdout",
     "output_type": "stream",
     "text": [
      "[ 0.  0.  0.  1.]\n"
     ]
    }
   ],
   "source": [
    "output = np.array([])\n",
    "for i in inputs:\n",
    "    if i >= activation_threshold:\n",
    "        output = np.append(output, 1)\n",
    "    else:\n",
    "        output = np.append(output, 0)\n",
    "print output"
   ]
  },
  {
   "cell_type": "markdown",
   "metadata": {},
   "source": [
    "#### Conclusions"
   ]
  },
  {
   "cell_type": "markdown",
   "metadata": {},
   "source": [
    "Only the last input (1.0, 0.8) produces a classification of 1.  The following plot visually demonstrates the demarcation between observations that are classified as a 1 or 0."
   ]
  },
  {
   "cell_type": "code",
   "execution_count": 9,
   "metadata": {
    "collapsed": false
   },
   "outputs": [
    {
     "data": {
      "image/png": "[encoded data removed]",
      "text/plain": [
       "<matplotlib.figure.Figure at 0x108765390>"
      ]
     },
     "metadata": {},
     "output_type": "display_data"
    }
   ],
   "source": [
    "%matplotlib inline\n",
    "import matplotlib.pyplot as plt\n",
    "from pylab import *\n",
    "\n",
    "x = [0.2, 0.2, 0.8, 0.8]\n",
    "y = [0.3, 0.8, 0.2, 0.8]\n",
    "\n",
    "figure()\n",
    "plt.autoscale(enable=False)\n",
    "plt.scatter(x[0:3], y[0:3], s=30, c='r', marker='x')\n",
    "plt.scatter(x[3], y[3], s=30, c='g', marker='o')\n",
    "plt.plot([0, activation_threshold], [activation_threshold, 0], 'b--') # decision boundary\n",
    "xlabel('x')\n",
    "ylabel('y')\n",
    "title('Activation Threshold Visualization')\n",
    "show()"
   ]
  },
  {
   "cell_type": "code",
   "execution_count": 25,
   "metadata": {
    "collapsed": false
   },
   "outputs": [],
   "source": []
  },
  {
   "cell_type": "code",
   "execution_count": 45,
   "metadata": {
    "collapsed": false
   },
   "outputs": [],
   "source": []
  },
  {
   "cell_type": "code",
   "execution_count": null,
   "metadata": {
    "collapsed": false
   },
   "outputs": [],
   "source": []
  }
 ],
 "metadata": {
  "kernelspec": {
   "display_name": "Python 2",
   "language": "python",
   "name": "python2"
  },
  "language_info": {
   "codemirror_mode": {
    "name": "ipython",
    "version": 2
   },
   "file_extension": ".py",
   "mimetype": "text/x-python",
   "name": "python",
   "nbconvert_exporter": "python",
   "pygments_lexer": "ipython2",
   "version": "2.7.9"
  }
 },
 "nbformat": 4,
 "nbformat_minor": 0
}
